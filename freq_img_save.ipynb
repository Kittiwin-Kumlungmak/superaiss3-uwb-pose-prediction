{
 "cells": [
  {
   "cell_type": "code",
   "execution_count": 1,
   "id": "7ad42b4a-d979-4d7d-9b7e-a7037f7b4996",
   "metadata": {
    "tags": []
   },
   "outputs": [],
   "source": [
    "import pandas as pd\n",
    "import numpy as np\n",
    "import os\n",
    "import glob\n",
    "from sklearn.model_selection import train_test_split\n",
    "import matplotlib.pyplot as plt\n",
    "%matplotlib inline\n",
    "\n",
    "import cv2\n",
    "from scipy.signal import medfilt\n",
    "from tqdm.notebook import tqdm"
   ]
  },
  {
   "cell_type": "code",
   "execution_count": 2,
   "id": "e5725abb-6f04-4087-bc98-33af29c1d8c0",
   "metadata": {},
   "outputs": [],
   "source": [
    "#Range time data\n",
    "def range_time(IQ_data, overlap = 1): \n",
    "    n_rd_history = 256\n",
    "    frame = []\n",
    "    frames = []\n",
    "    overlap_count = 0\n",
    "    check = 0\n",
    "    for iqini in IQ_data:\n",
    "        if len(frame)<n_rd_history:\n",
    "            frame.append(iqini)\n",
    "        else:  \n",
    "            if check == 0:\n",
    "                frame1 = np.array(frame)\n",
    "                frames.append(np.copy(frame1))\n",
    "                check = 1\n",
    "\n",
    "            if overlap_count < overlap:\n",
    "                frame.append(iqini)\n",
    "                overlap_count = overlap_count+1\n",
    "\n",
    "            if overlap_count == overlap:\n",
    "                frame = frame[overlap_count::]\n",
    "                frame1 = np.array(frame)\n",
    "                frames.append(np.copy(frame1))\n",
    "                overlap_count = 0\n",
    "    return np.stack(frames)\n",
    "\n",
    "import scipy.fftpack as fft\n",
    "#Range frequency data\n",
    "def range_frequency(datas):\n",
    "    Range_frequency_frame = []\n",
    "    for data in datas:\n",
    "        jitter = 1e-10\n",
    "        # noise_threshold = -65\n",
    "        dB = True\n",
    "        #rd_history = np.hanning(n_rd_history)[:, None] * np.array(data)\n",
    "        # Range-Doppler\n",
    "        rd = fft.fft(data, axis=0)\n",
    "        rd = fft.fftshift(rd, axes=0)\n",
    "        rd = abs(rd)\n",
    "        if dB:\n",
    "            rd = 20 * np.log10(rd+jitter)\n",
    "            # rd[rd < noise_threshold] = noise_threshold\n",
    "        Range_frequency_frame.append(rd)\n",
    "    return np.stack(Range_frequency_frame)\n",
    "\n",
    "def get_time_img(data):\n",
    "    # output = np.load(f'{data_path}{data_id}')\n",
    "    output = np.abs(range_time(data, overlap=256))\n",
    "    output = output.reshape(-1,56)\n",
    "    output -= output.mean(axis=0)\n",
    "    return output.reshape(-1,56)\n",
    "\n",
    "def get_freq_img(data):\n",
    "    # output = np.load(f'{data_path}{data_id}')\n",
    "    output = range_time(data, overlap=256)\n",
    "    # output -= output.mean(axis=0)\n",
    "    output = range_frequency(output)\n",
    "    return output.reshape(-1,56)"
   ]
  },
  {
   "cell_type": "code",
   "execution_count": 3,
   "id": "b48f5b37-98db-42d9-b7d7-4b12889e4e27",
   "metadata": {},
   "outputs": [],
   "source": [
    "def save_fig(X, filename, mode):\n",
    "    fig, ax = plt.subplots(figsize=(10, 10)) # set figure size\n",
    "    # ax.imshow(np.abs(X)[:,10:], aspect='auto', cmap='gray') # slice \n",
    "    ax.imshow(np.abs(X), aspect='auto', cmap='gray') # slice \n",
    "    ax.set_axis_off()\n",
    "\n",
    "    if mode == 'Train':\n",
    "        fig.savefig(f'freq_img_gray_bgsup/train/{filename}.jpg', bbox_inches='tight', pad_inches=0)\n",
    "    elif mode == 'Test':\n",
    "        fig.savefig(f'freq_img_gray_bgsup/test/{filename}.jpg', bbox_inches='tight', pad_inches=0)\n",
    "    plt.close()"
   ]
  },
  {
   "cell_type": "code",
   "execution_count": 4,
   "id": "be479aca-24a5-4a7d-b594-8a812ee6e673",
   "metadata": {},
   "outputs": [],
   "source": [
    "def save_dataset():\n",
    "    \n",
    "    if not os.path.exists('freq_img_gray_bgsup/train'):\n",
    "        os.mkdir('freq_img_gray_bgsup/train')\n",
    "        \n",
    "    if not os.path.exists('freq_img_gray_bgsup/test'):\n",
    "        os.mkdir('freq_img_gray_bgsup/test')\n",
    "    \n",
    "    # Setting Train, test path\n",
    "    train_list = glob.glob('train/train/*.npy')\n",
    "    test_list = glob.glob('test/test/*.npy')\n",
    "    annotations = pd.read_csv('annotations.csv')\n",
    "    \n",
    "    # Import Train data\n",
    "    X_train = []\n",
    "    y_train = []\n",
    "    \n",
    "    for i in tqdm(train_list):        \n",
    "        z = get_freq_img(np.load(i))\n",
    "        # z -= z.mean(axis=0)\n",
    "        label = annotations[annotations['id'] == i.replace('train/train/','').replace('.npy','')]['class'].values\n",
    "        \n",
    "        # check if shape is all the same\n",
    "        if z.shape != (2560,56):\n",
    "            print(i)\n",
    "            print(\"Outlier shape: \", z.shape)\n",
    "            print('=='*5)\n",
    "        else:    \n",
    "            # X_train.append(z)\n",
    "            # y_train.append(label)\n",
    "\n",
    "            filename = i.replace('train/train/','').replace('.npy','')\n",
    "            mode = 'Train'\n",
    "            save_fig(z, filename, mode)\n",
    "        \n",
    "    print('=='*5, 'Train Finish')\n",
    "    \n",
    "    \n",
    "    # Import test data\n",
    "    X_test = []\n",
    "    for i in tqdm(test_list):\n",
    "\n",
    "        z = get_freq_img(np.load(i))\n",
    "        # z -= z.mean(axis=0)\n",
    "        # X_test.append(z)\n",
    "\n",
    "        filename = i.replace('test/test/','').replace('.npy','')\n",
    "        mode = 'Test'\n",
    "        save_fig(z, filename, mode)\n",
    "\n",
    "    print('=='*5, 'Test Finish')"
   ]
  },
  {
   "cell_type": "code",
   "execution_count": 5,
   "id": "e32c5345-30fa-4d13-b47f-968ddd722433",
   "metadata": {
    "tags": []
   },
   "outputs": [
    {
     "data": {
      "application/vnd.jupyter.widget-view+json": {
       "model_id": "5cda6eb99f2441318e32c220ceea8e73",
       "version_major": 2,
       "version_minor": 0
      },
      "text/plain": [
       "  0%|          | 0/647 [00:00<?, ?it/s]"
      ]
     },
     "metadata": {},
     "output_type": "display_data"
    },
    {
     "name": "stdout",
     "output_type": "stream",
     "text": [
      "train/train/8dbc522d-23b7-4e25-936d-54f749f96e25.npy\n",
      "Outlier shape:  (7680, 56)\n",
      "==========\n",
      "========== Train Finish\n"
     ]
    },
    {
     "data": {
      "application/vnd.jupyter.widget-view+json": {
       "model_id": "772903ded9734130829abee98173ed2b",
       "version_major": 2,
       "version_minor": 0
      },
      "text/plain": [
       "  0%|          | 0/164 [00:00<?, ?it/s]"
      ]
     },
     "metadata": {},
     "output_type": "display_data"
    },
    {
     "name": "stdout",
     "output_type": "stream",
     "text": [
      "========== Test Finish\n"
     ]
    }
   ],
   "source": [
    "save_dataset()"
   ]
  },
  {
   "cell_type": "code",
   "execution_count": null,
   "id": "c5eaf8d0-adce-4596-9c0f-02c7616dbf08",
   "metadata": {},
   "outputs": [],
   "source": []
  }
 ],
 "metadata": {
  "kernelspec": {
   "display_name": "Python 3 (ipykernel)",
   "language": "python",
   "name": "python3"
  },
  "language_info": {
   "codemirror_mode": {
    "name": "ipython",
    "version": 3
   },
   "file_extension": ".py",
   "mimetype": "text/x-python",
   "name": "python",
   "nbconvert_exporter": "python",
   "pygments_lexer": "ipython3",
   "version": "3.9.13"
  }
 },
 "nbformat": 4,
 "nbformat_minor": 5
}
