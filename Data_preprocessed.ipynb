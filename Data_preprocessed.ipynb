{
 "cells": [
  {
   "cell_type": "code",
   "execution_count": 4,
   "id": "98c4f708-9c5d-4748-962b-162c454d6253",
   "metadata": {},
   "outputs": [
    {
     "name": "stdout",
     "output_type": "stream",
     "text": [
      "Collecting scikit-maad\n",
      "  Using cached scikit_maad-1.3.12-py3-none-any.whl (142 kB)\n",
      "Requirement already satisfied: numpy>=1.19 in /Users/kittiwin/miniforge3/envs/torch-gpu-env/lib/python3.11/site-packages (from scikit-maad) (1.23.5)\n",
      "Requirement already satisfied: scipy>=1.5 in /Users/kittiwin/miniforge3/envs/torch-gpu-env/lib/python3.11/site-packages (from scikit-maad) (1.10.1)\n",
      "Collecting scikit-image>=0.17\n",
      "  Using cached scikit_image-0.20.0-cp311-cp311-macosx_12_0_arm64.whl (12.6 MB)\n",
      "Requirement already satisfied: pandas>=1.1 in /Users/kittiwin/miniforge3/envs/torch-gpu-env/lib/python3.11/site-packages (from scikit-maad) (1.5.3)\n",
      "Collecting resampy>=0.2\n",
      "  Using cached resampy-0.4.2-py3-none-any.whl (3.1 MB)\n",
      "Requirement already satisfied: python-dateutil>=2.8.1 in /Users/kittiwin/miniforge3/envs/torch-gpu-env/lib/python3.11/site-packages (from pandas>=1.1->scikit-maad) (2.8.2)\n",
      "Requirement already satisfied: pytz>=2020.1 in /Users/kittiwin/miniforge3/envs/torch-gpu-env/lib/python3.11/site-packages (from pandas>=1.1->scikit-maad) (2022.7.1)\n",
      "Collecting numba>=0.53\n",
      "  Using cached numba-0.56.4.tar.gz (2.4 MB)\n",
      "  Preparing metadata (setup.py) ... \u001b[?25lerror\n",
      "  \u001b[1;31merror\u001b[0m: \u001b[1msubprocess-exited-with-error\u001b[0m\n",
      "  \n",
      "  \u001b[31m×\u001b[0m \u001b[32mpython setup.py egg_info\u001b[0m did not run successfully.\n",
      "  \u001b[31m│\u001b[0m exit code: \u001b[1;36m1\u001b[0m\n",
      "  \u001b[31m╰─>\u001b[0m \u001b[31m[8 lines of output]\u001b[0m\n",
      "  \u001b[31m   \u001b[0m Traceback (most recent call last):\n",
      "  \u001b[31m   \u001b[0m   File \"<string>\", line 2, in <module>\n",
      "  \u001b[31m   \u001b[0m   File \"<pip-setuptools-caller>\", line 34, in <module>\n",
      "  \u001b[31m   \u001b[0m   File \"/private/var/folders/mf/mn2tnfld4370tjxj00fxczxm0000gn/T/pip-install-euht397a/numba_4ad9fb4d93e34631ad437a3fca2060d8/setup.py\", line 51, in <module>\n",
      "  \u001b[31m   \u001b[0m     _guard_py_ver()\n",
      "  \u001b[31m   \u001b[0m   File \"/private/var/folders/mf/mn2tnfld4370tjxj00fxczxm0000gn/T/pip-install-euht397a/numba_4ad9fb4d93e34631ad437a3fca2060d8/setup.py\", line 48, in _guard_py_ver\n",
      "  \u001b[31m   \u001b[0m     raise RuntimeError(msg.format(cur_py, min_py, max_py))\n",
      "  \u001b[31m   \u001b[0m RuntimeError: Cannot install on Python version 3.11.0; only versions >=3.7,<3.11 are supported.\n",
      "  \u001b[31m   \u001b[0m \u001b[31m[end of output]\u001b[0m\n",
      "  \n",
      "  \u001b[1;35mnote\u001b[0m: This error originates from a subprocess, and is likely not a problem with pip.\n",
      "\u001b[1;31merror\u001b[0m: \u001b[1mmetadata-generation-failed\u001b[0m\n",
      "\n",
      "\u001b[31m×\u001b[0m Encountered error while generating package metadata.\n",
      "\u001b[31m╰─>\u001b[0m See above for output.\n",
      "\n",
      "\u001b[1;35mnote\u001b[0m: This is an issue with the package mentioned above, not pip.\n",
      "\u001b[1;36mhint\u001b[0m: See above for details.\n",
      "\u001b[?25h"
     ]
    }
   ],
   "source": [
    "!pip install scikit-maad"
   ]
  },
  {
   "cell_type": "code",
   "execution_count": 3,
   "id": "8e1a2761",
   "metadata": {
    "id": "8e1a2761"
   },
   "outputs": [
    {
     "ename": "ModuleNotFoundError",
     "evalue": "No module named 'maad'",
     "output_type": "error",
     "traceback": [
      "\u001b[0;31m---------------------------------------------------------------------------\u001b[0m",
      "\u001b[0;31mModuleNotFoundError\u001b[0m                       Traceback (most recent call last)",
      "Cell \u001b[0;32mIn[3], line 5\u001b[0m\n\u001b[1;32m      2\u001b[0m \u001b[38;5;28;01mimport\u001b[39;00m \u001b[38;5;21;01mpandas\u001b[39;00m \u001b[38;5;28;01mas\u001b[39;00m \u001b[38;5;21;01mpd\u001b[39;00m\n\u001b[1;32m      3\u001b[0m \u001b[38;5;28;01mimport\u001b[39;00m \u001b[38;5;21;01mmatplotlib\u001b[39;00m\u001b[38;5;21;01m.\u001b[39;00m\u001b[38;5;21;01mpyplot\u001b[39;00m \u001b[38;5;28;01mas\u001b[39;00m \u001b[38;5;21;01mplt\u001b[39;00m\n\u001b[0;32m----> 5\u001b[0m \u001b[38;5;28;01mfrom\u001b[39;00m \u001b[38;5;21;01mmaad\u001b[39;00m\u001b[38;5;21;01m.\u001b[39;00m\u001b[38;5;21;01msound\u001b[39;00m \u001b[38;5;28;01mimport\u001b[39;00m (load, spectrogram,\n\u001b[1;32m      6\u001b[0m                        remove_background, median_equalizer,\n\u001b[1;32m      7\u001b[0m                        remove_background_morpho,\n\u001b[1;32m      8\u001b[0m                        remove_background_along_axis, sharpness)\n",
      "\u001b[0;31mModuleNotFoundError\u001b[0m: No module named 'maad'"
     ]
    }
   ],
   "source": [
    "import numpy as np \n",
    "import pandas as pd\n",
    "import matplotlib.pyplot as plt\n",
    "\n",
    "from maad.sound import (load, spectrogram,\n",
    "                       remove_background, median_equalizer,\n",
    "                       remove_background_morpho,\n",
    "                       remove_background_along_axis, sharpness)"
   ]
  },
  {
   "cell_type": "code",
   "execution_count": 2,
   "id": "xVEKGaEBZM5K",
   "metadata": {
    "colab": {
     "base_uri": "https://localhost:8080/",
     "height": 424
    },
    "id": "xVEKGaEBZM5K",
    "outputId": "d05fddc1-a06f-4b44-b8de-905cca335e88"
   },
   "outputs": [
    {
     "data": {
      "text/html": [
       "<div>\n",
       "<style scoped>\n",
       "    .dataframe tbody tr th:only-of-type {\n",
       "        vertical-align: middle;\n",
       "    }\n",
       "\n",
       "    .dataframe tbody tr th {\n",
       "        vertical-align: top;\n",
       "    }\n",
       "\n",
       "    .dataframe thead th {\n",
       "        text-align: right;\n",
       "    }\n",
       "</style>\n",
       "<table border=\"1\" class=\"dataframe\">\n",
       "  <thead>\n",
       "    <tr style=\"text-align: right;\">\n",
       "      <th></th>\n",
       "      <th>id</th>\n",
       "      <th>class</th>\n",
       "    </tr>\n",
       "  </thead>\n",
       "  <tbody>\n",
       "    <tr>\n",
       "      <th>0</th>\n",
       "      <td>80a8dc1d-b216-469c-91b1-fc257562a883</td>\n",
       "      <td>0</td>\n",
       "    </tr>\n",
       "    <tr>\n",
       "      <th>1</th>\n",
       "      <td>3ab012da-927a-40d6-95f8-5a2f96dad360</td>\n",
       "      <td>0</td>\n",
       "    </tr>\n",
       "    <tr>\n",
       "      <th>2</th>\n",
       "      <td>eef92f84-5127-4063-a4a2-fee4035b1ac7</td>\n",
       "      <td>0</td>\n",
       "    </tr>\n",
       "    <tr>\n",
       "      <th>3</th>\n",
       "      <td>8d562739-6502-4a6c-8b83-e029b795f685</td>\n",
       "      <td>0</td>\n",
       "    </tr>\n",
       "    <tr>\n",
       "      <th>4</th>\n",
       "      <td>404c2e92-1101-4e62-83bf-a6fdb7dfcb9a</td>\n",
       "      <td>0</td>\n",
       "    </tr>\n",
       "    <tr>\n",
       "      <th>...</th>\n",
       "      <td>...</td>\n",
       "      <td>...</td>\n",
       "    </tr>\n",
       "    <tr>\n",
       "      <th>642</th>\n",
       "      <td>ea5513a7-f18a-4393-8ab4-44e574e70f2b</td>\n",
       "      <td>4</td>\n",
       "    </tr>\n",
       "    <tr>\n",
       "      <th>643</th>\n",
       "      <td>edf4aec3-410d-4ed3-90d2-12671bb4c625</td>\n",
       "      <td>4</td>\n",
       "    </tr>\n",
       "    <tr>\n",
       "      <th>644</th>\n",
       "      <td>297e1f02-66ac-4e4e-849a-da2f1103e8a0</td>\n",
       "      <td>4</td>\n",
       "    </tr>\n",
       "    <tr>\n",
       "      <th>645</th>\n",
       "      <td>926418bb-2e66-4c82-82b1-13a82faf73b4</td>\n",
       "      <td>4</td>\n",
       "    </tr>\n",
       "    <tr>\n",
       "      <th>646</th>\n",
       "      <td>e24e1356-ea01-4189-a3d3-15bfb145b7a5</td>\n",
       "      <td>4</td>\n",
       "    </tr>\n",
       "  </tbody>\n",
       "</table>\n",
       "<p>647 rows × 2 columns</p>\n",
       "</div>"
      ],
      "text/plain": [
       "                                       id  class\n",
       "0    80a8dc1d-b216-469c-91b1-fc257562a883      0\n",
       "1    3ab012da-927a-40d6-95f8-5a2f96dad360      0\n",
       "2    eef92f84-5127-4063-a4a2-fee4035b1ac7      0\n",
       "3    8d562739-6502-4a6c-8b83-e029b795f685      0\n",
       "4    404c2e92-1101-4e62-83bf-a6fdb7dfcb9a      0\n",
       "..                                    ...    ...\n",
       "642  ea5513a7-f18a-4393-8ab4-44e574e70f2b      4\n",
       "643  edf4aec3-410d-4ed3-90d2-12671bb4c625      4\n",
       "644  297e1f02-66ac-4e4e-849a-da2f1103e8a0      4\n",
       "645  926418bb-2e66-4c82-82b1-13a82faf73b4      4\n",
       "646  e24e1356-ea01-4189-a3d3-15bfb145b7a5      4\n",
       "\n",
       "[647 rows x 2 columns]"
      ]
     },
     "execution_count": 2,
     "metadata": {},
     "output_type": "execute_result"
    }
   ],
   "source": [
    "annot_df = pd.read_csv('uwb-pose-prediction/annotations.csv')\n",
    "annot_df"
   ]
  },
  {
   "cell_type": "code",
   "execution_count": null,
   "id": "u5XldEv-ZiUx",
   "metadata": {
    "colab": {
     "base_uri": "https://localhost:8080/",
     "height": 282
    },
    "id": "u5XldEv-ZiUx",
    "outputId": "661f93d4-83ea-49d8-9388-ae19f55c647b"
   },
   "outputs": [],
   "source": [
    "plt.bar(annot_df['class'].value_counts().index, height=annot_df['class'].value_counts().values)"
   ]
  },
  {
   "cell_type": "code",
   "execution_count": null,
   "id": "uoWrePACceoQ",
   "metadata": {
    "colab": {
     "base_uri": "https://localhost:8080/",
     "height": 269
    },
    "id": "uoWrePACceoQ",
    "outputId": "6159105e-1b4b-454e-9f12-4870f048222a"
   },
   "outputs": [],
   "source": [
    "class_df = pd.read_csv('uwb-pose-prediction/classes.csv')\n",
    "class_df"
   ]
  },
  {
   "cell_type": "code",
   "execution_count": null,
   "id": "aecee7f2-6743-4486-ba08-0c58927a431a",
   "metadata": {},
   "outputs": [],
   "source": [
    "annot_df[annot_df['class'] == 1].head()"
   ]
  },
  {
   "cell_type": "code",
   "execution_count": null,
   "id": "zk149KxwcnRL",
   "metadata": {
    "colab": {
     "base_uri": "https://localhost:8080/"
    },
    "id": "zk149KxwcnRL",
    "outputId": "80162789-b89f-4a89-e81b-a4bf1b7cc77c"
   },
   "outputs": [],
   "source": [
    "data_path = 'uwb-pose-prediction/train/train/'\n",
    "data_id = '8dbc522d-23b7-4e25-936d-54f749f96e25.npy'\n",
    "sample = np.load(f'{data_path}{data_id}')\n",
    "print(sample.shape)\n",
    "print(\"10 second x 256 frame per second = \"+str(10*256))"
   ]
  },
  {
   "cell_type": "code",
   "execution_count": null,
   "id": "a0ec583c-097b-4932-8123-aa67a4983648",
   "metadata": {},
   "outputs": [],
   "source": [
    "# I/Q data reader \n",
    "def IQdata(datas):\n",
    "    iq_vecs = []\n",
    "    for data in datas:\n",
    "        data_length = len(data)\n",
    "        i_vec = np.array(data[:data_length//2])\n",
    "        q_vec = np.array(data[data_length//2:])\n",
    "        iq_vec = i_vec + 1j*q_vec\n",
    "        iq_vecs.append(iq_vec)\n",
    "    return np.stack(iq_vecs)\n",
    "\n",
    "#Range time data\n",
    "def range_time(IQ_data, overlap = 1): \n",
    "    n_rd_history = 256\n",
    "    frame = []\n",
    "    frames = []\n",
    "    overlap_count = 0\n",
    "    check = 0\n",
    "    for iqini in IQ_data:\n",
    "        if len(frame)<n_rd_history:\n",
    "            frame.append(iqini)\n",
    "        else:  \n",
    "            if check == 0:\n",
    "                frame1 = np.array(frame)\n",
    "                frames.append(np.copy(frame1))\n",
    "                check = 1\n",
    "\n",
    "            if overlap_count < overlap:\n",
    "                frame.append(iqini)\n",
    "                overlap_count = overlap_count+1\n",
    "\n",
    "            if overlap_count == overlap:\n",
    "                frame = frame[overlap_count::]\n",
    "                frame1 = np.array(frame)\n",
    "                frames.append(np.copy(frame1))\n",
    "                overlap_count = 0\n",
    "    return np.stack(frames)\n",
    "\n",
    "import scipy.fftpack as fft\n",
    "#Range frequency data\n",
    "def range_frequency(datas):\n",
    "    Range_frequency_frame = []\n",
    "    for data in datas:\n",
    "        jitter = 1e-10\n",
    "        noise_threshold = -60\n",
    "        dB = True\n",
    "        #rd_history = np.hanning(n_rd_history)[:, None] * np.array(data)\n",
    "        # Range-Doppler\n",
    "        rd = fft.fft(data, axis=0)\n",
    "        rd = fft.fftshift(rd, axes=0)\n",
    "        rd = abs(rd)\n",
    "        if dB:\n",
    "            rd = 20 * np.log10(rd+jitter)\n",
    "            rd[rd < noise_threshold] = noise_threshold\n",
    "        Range_frequency_frame.append(rd)\n",
    "    return np.stack(Range_frequency_frame)\n",
    "\n",
    "def get_time_img(data_id, data_path = 'uwb-pose-prediction/train/train/'):\n",
    "    output = np.load(f'{data_path}{data_id}')\n",
    "    output = np.abs(range_time(output, overlap=256))\n",
    "    resize = tv.transforms.Resize((256,256))\n",
    "    output = resize(torch.tensor(output.reshape(1,-1,56)))\n",
    "    output = np.array(torch.permute(output ,(1,2,0)))\n",
    "    return output\n",
    "\n",
    "def get_freq_img(data_id, data_path = 'uwb-pose-prediction/train/train/'):\n",
    "    output = np.load(f'{data_path}{data_id}')\n",
    "    output = range_time(output, overlap=256)\n",
    "    output = range_frequency(output)\n",
    "    resize = tv.transforms.Resize((256,256))\n",
    "    output = resize(torch.tensor(output.reshape(1,-1,56)))\n",
    "    output = np.array(torch.permute(output ,(1,2,0)))\n",
    "    return output"
   ]
  },
  {
   "cell_type": "code",
   "execution_count": null,
   "id": "39ee6d3a-f33a-48f6-86ce-461458ff4714",
   "metadata": {
    "tags": []
   },
   "outputs": [],
   "source": [
    "import torchvision as tv\n",
    "import torch\n",
    "\n",
    "plt.figure()\n",
    "tmp = get_freq_img('8dbc522d-23b7-4e25-936d-54f749f96e25.npy', data_path = 'uwb-pose-prediction/train/train/')\n",
    "plt.imshow(np.array(tmp))\n",
    "\n",
    "plt.figure()\n",
    "tmp = np.abs(get_time_img('8dbc522d-23b7-4e25-936d-54f749f96e25.npy', data_path = 'uwb-pose-prediction/train/train/'))\n",
    "plt.imshow(np.array(tmp))"
   ]
  },
  {
   "cell_type": "code",
   "execution_count": null,
   "id": "79c88f07-d301-40bc-aac9-304e02be205d",
   "metadata": {
    "tags": []
   },
   "outputs": [],
   "source": [
    "# # Fall\n",
    "# plt.figure()\n",
    "# tmp = get_freq_img('404c2e92-1101-4e62-83bf-a6fdb7dfcb9a.npy', data_path = 'uwb-pose-prediction/train/train/')\n",
    "# plt.imshow(np.array(tmp))\n",
    "\n",
    "# plt.figure()\n",
    "# tmp = np.abs(get_time_img('404c2e92-1101-4e62-83bf-a6fdb7dfcb9a.npy', data_path = 'uwb-pose-prediction/train/train/'))\n",
    "# plt.imshow(np.array(tmp))"
   ]
  },
  {
   "cell_type": "code",
   "execution_count": null,
   "id": "d4d443e0-81cd-4b1c-bb34-a09365ff9efd",
   "metadata": {
    "tags": []
   },
   "outputs": [],
   "source": [
    "# tmp = get_freq_img('b38b9347-2f91-4144-a377-b3b716d985d5.npy', data_path = 'uwb-pose-prediction/train/train/')\n",
    "# for i in range(len(tmp)):\n",
    "#     for j in tmp[i]:\n",
    "#         if j > -45:\n",
    "#             print(j)\n",
    "#             continue\n",
    "# tmp"
   ]
  },
  {
   "cell_type": "markdown",
   "id": "e7193446-ce6f-4aa5-977f-1ee3db3c1c8c",
   "metadata": {},
   "source": [
    "# Visualization"
   ]
  },
  {
   "cell_type": "code",
   "execution_count": null,
   "id": "09fff157-b14e-478b-ab09-4068f516b8fe",
   "metadata": {},
   "outputs": [],
   "source": [
    "class_df['class']"
   ]
  },
  {
   "cell_type": "markdown",
   "id": "9bd3ab18-71cc-40d3-a6f1-6b5d7808db56",
   "metadata": {
    "tags": []
   },
   "source": [
    "## Class 0: ล้ม (เป็นลม/สะดุด)"
   ]
  },
  {
   "cell_type": "code",
   "execution_count": null,
   "id": "4329f5c8-a3b2-42ff-b4ce-37f570456261",
   "metadata": {},
   "outputs": [],
   "source": [
    "class_id = 0\n",
    "data = list(annot_df[annot_df['class']==class_id].sample(10)['id'])\n",
    "plt.figure(figsize=(5,10))\n",
    "ax1 = plt.subplot(5,2,1)\n",
    "# ax1.title.set_text(f\"Time\")\n",
    "ax2 = plt.subplot(5,2,2)\n",
    "# ax2.title.set_text(f\"Freq\")\n",
    "ax3 = plt.subplot(5,2,3)\n",
    "# ax3.title.set_text(f\"Time\")\n",
    "ax4 = plt.subplot(5,2,4)\n",
    "# ax4.title.set_text(f\"Freq\")\n",
    "ax5 = plt.subplot(5,2,5)\n",
    "# ax5.title.set_text(f\"Time\")\n",
    "ax6 = plt.subplot(5,2,6)\n",
    "# ax6.title.set_text(f\"Freq\")\n",
    "ax7 = plt.subplot(5,2,7)\n",
    "# ax7.title.set_text(f\"Time\")\n",
    "ax8 = plt.subplot(5,2,8)\n",
    "# ax8.title.set_text(f\"Freq\")\n",
    "ax9 = plt.subplot(5,2,9)\n",
    "# ax9.title.set_text(f\"Time\")\n",
    "ax10 = plt.subplot(5,2,10)\n",
    "# ax10.title.set_text(f\"Freq\")\n",
    "\n",
    "im1 = ax1.imshow(get_time_img(f\"{data[0]}.npy\"))\n",
    "im2 = ax2.imshow(get_freq_img(f\"{data[0]}.npy\"))\n",
    "im3 = ax3.imshow(get_time_img(f\"{data[1]}.npy\"))\n",
    "im4 = ax4.imshow(get_freq_img(f\"{data[1]}.npy\"))\n",
    "im5 = ax5.imshow(get_time_img(f\"{data[2]}.npy\"))\n",
    "im6 = ax6.imshow(get_freq_img(f\"{data[2]}.npy\"))\n",
    "im7 = ax7.imshow(get_time_img(f\"{data[3]}.npy\"))\n",
    "im8 = ax8.imshow(get_freq_img(f\"{data[3]}.npy\"))\n",
    "im9 = ax9.imshow(get_time_img(f\"{data[4]}.npy\"))\n",
    "im10 = ax10.imshow(get_freq_img(f\"{data[4]}.npy\"))"
   ]
  },
  {
   "cell_type": "markdown",
   "id": "5b6059c0-53bf-48b7-b13f-a25f69beb6a3",
   "metadata": {
    "tags": []
   },
   "source": [
    "## Class 1: กระโดด"
   ]
  },
  {
   "cell_type": "code",
   "execution_count": null,
   "id": "39c27c2c-b56e-44f8-9b11-35b5cca9a73b",
   "metadata": {},
   "outputs": [],
   "source": [
    "class_id = 1\n",
    "data = list(annot_df[annot_df['class']==class_id].sample(10)['id'])\n",
    "plt.figure(figsize=(5,10))\n",
    "ax1 = plt.subplot(5,2,1)\n",
    "# ax1.title.set_text(f\"Time\")\n",
    "ax2 = plt.subplot(5,2,2)\n",
    "# ax2.title.set_text(f\"Freq\")\n",
    "ax3 = plt.subplot(5,2,3)\n",
    "# ax3.title.set_text(f\"Time\")\n",
    "ax4 = plt.subplot(5,2,4)\n",
    "# ax4.title.set_text(f\"Freq\")\n",
    "ax5 = plt.subplot(5,2,5)\n",
    "# ax5.title.set_text(f\"Time\")\n",
    "ax6 = plt.subplot(5,2,6)\n",
    "# ax6.title.set_text(f\"Freq\")\n",
    "ax7 = plt.subplot(5,2,7)\n",
    "# ax7.title.set_text(f\"Time\")\n",
    "ax8 = plt.subplot(5,2,8)\n",
    "# ax8.title.set_text(f\"Freq\")\n",
    "ax9 = plt.subplot(5,2,9)\n",
    "# ax9.title.set_text(f\"Time\")\n",
    "ax10 = plt.subplot(5,2,10)\n",
    "# ax10.title.set_text(f\"Freq\")\n",
    "\n",
    "im1 = ax1.imshow(get_time_img(f\"{data[0]}.npy\"))\n",
    "im2 = ax2.imshow(get_freq_img(f\"{data[0]}.npy\"))\n",
    "im3 = ax3.imshow(get_time_img(f\"{data[1]}.npy\"))\n",
    "im4 = ax4.imshow(get_freq_img(f\"{data[1]}.npy\"))\n",
    "im5 = ax5.imshow(get_time_img(f\"{data[2]}.npy\"))\n",
    "im6 = ax6.imshow(get_freq_img(f\"{data[2]}.npy\"))\n",
    "im7 = ax7.imshow(get_time_img(f\"{data[3]}.npy\"))\n",
    "im8 = ax8.imshow(get_freq_img(f\"{data[3]}.npy\"))\n",
    "im9 = ax9.imshow(get_time_img(f\"{data[4]}.npy\"))\n",
    "im10 = ax10.imshow(get_freq_img(f\"{data[4]}.npy\"))"
   ]
  },
  {
   "cell_type": "markdown",
   "id": "b9db82bf-c7d2-46ca-ac59-e7e216fd9d51",
   "metadata": {
    "tags": []
   },
   "source": [
    "## Class 2: (ตั้งใจ) ลงไปนอนบนที่นอน"
   ]
  },
  {
   "cell_type": "code",
   "execution_count": null,
   "id": "04368fc6-3703-49f8-a570-4b40f180fdf4",
   "metadata": {},
   "outputs": [],
   "source": [
    "class_id = 2\n",
    "data = list(annot_df[annot_df['class']==class_id].sample(10)['id'])\n",
    "plt.figure(figsize=(5,10))\n",
    "ax1 = plt.subplot(5,2,1)\n",
    "# ax1.title.set_text(f\"Time\")\n",
    "ax2 = plt.subplot(5,2,2)\n",
    "# ax2.title.set_text(f\"Freq\")\n",
    "ax3 = plt.subplot(5,2,3)\n",
    "# ax3.title.set_text(f\"Time\")\n",
    "ax4 = plt.subplot(5,2,4)\n",
    "# ax4.title.set_text(f\"Freq\")\n",
    "ax5 = plt.subplot(5,2,5)\n",
    "# ax5.title.set_text(f\"Time\")\n",
    "ax6 = plt.subplot(5,2,6)\n",
    "# ax6.title.set_text(f\"Freq\")\n",
    "ax7 = plt.subplot(5,2,7)\n",
    "# ax7.title.set_text(f\"Time\")\n",
    "ax8 = plt.subplot(5,2,8)\n",
    "# ax8.title.set_text(f\"Freq\")\n",
    "ax9 = plt.subplot(5,2,9)\n",
    "# ax9.title.set_text(f\"Time\")\n",
    "ax10 = plt.subplot(5,2,10)\n",
    "# ax10.title.set_text(f\"Freq\")\n",
    "\n",
    "im1 = ax1.imshow(get_time_img(f\"{data[0]}.npy\"))\n",
    "im2 = ax2.imshow(get_freq_img(f\"{data[0]}.npy\"))\n",
    "im3 = ax3.imshow(get_time_img(f\"{data[1]}.npy\"))\n",
    "im4 = ax4.imshow(get_freq_img(f\"{data[1]}.npy\"))\n",
    "im5 = ax5.imshow(get_time_img(f\"{data[2]}.npy\"))\n",
    "im6 = ax6.imshow(get_freq_img(f\"{data[2]}.npy\"))\n",
    "im7 = ax7.imshow(get_time_img(f\"{data[3]}.npy\"))\n",
    "im8 = ax8.imshow(get_freq_img(f\"{data[3]}.npy\"))\n",
    "im9 = ax9.imshow(get_time_img(f\"{data[4]}.npy\"))\n",
    "im10 = ax10.imshow(get_freq_img(f\"{data[4]}.npy\"))"
   ]
  },
  {
   "cell_type": "markdown",
   "id": "4a508549-307c-40a2-a5cf-05a0c1a8378b",
   "metadata": {
    "tags": []
   },
   "source": [
    "## Class 3: วิ่ง"
   ]
  },
  {
   "cell_type": "code",
   "execution_count": null,
   "id": "528f31e5-180d-4d5f-9de1-6d67965825a8",
   "metadata": {},
   "outputs": [],
   "source": [
    "class_id = 3\n",
    "data = list(annot_df[annot_df['class']==class_id].sample(10)['id'])\n",
    "plt.figure(figsize=(5,10))\n",
    "ax1 = plt.subplot(5,2,1)\n",
    "# ax1.title.set_text(f\"Time\")\n",
    "ax2 = plt.subplot(5,2,2)\n",
    "# ax2.title.set_text(f\"Freq\")\n",
    "ax3 = plt.subplot(5,2,3)\n",
    "# ax3.title.set_text(f\"Time\")\n",
    "ax4 = plt.subplot(5,2,4)\n",
    "# ax4.title.set_text(f\"Freq\")\n",
    "ax5 = plt.subplot(5,2,5)\n",
    "# ax5.title.set_text(f\"Time\")\n",
    "ax6 = plt.subplot(5,2,6)\n",
    "# ax6.title.set_text(f\"Freq\")\n",
    "ax7 = plt.subplot(5,2,7)\n",
    "# ax7.title.set_text(f\"Time\")\n",
    "ax8 = plt.subplot(5,2,8)\n",
    "# ax8.title.set_text(f\"Freq\")\n",
    "ax9 = plt.subplot(5,2,9)\n",
    "# ax9.title.set_text(f\"Time\")\n",
    "ax10 = plt.subplot(5,2,10)\n",
    "# ax10.title.set_text(f\"Freq\")\n",
    "\n",
    "im1 = ax1.imshow(get_time_img(f\"{data[0]}.npy\"))\n",
    "im2 = ax2.imshow(get_freq_img(f\"{data[0]}.npy\"))\n",
    "im3 = ax3.imshow(get_time_img(f\"{data[1]}.npy\"))\n",
    "im4 = ax4.imshow(get_freq_img(f\"{data[1]}.npy\"))\n",
    "im5 = ax5.imshow(get_time_img(f\"{data[2]}.npy\"))\n",
    "im6 = ax6.imshow(get_freq_img(f\"{data[2]}.npy\"))\n",
    "im7 = ax7.imshow(get_time_img(f\"{data[3]}.npy\"))\n",
    "im8 = ax8.imshow(get_freq_img(f\"{data[3]}.npy\"))\n",
    "im9 = ax9.imshow(get_time_img(f\"{data[4]}.npy\"))\n",
    "im10 = ax10.imshow(get_freq_img(f\"{data[4]}.npy\"))"
   ]
  },
  {
   "cell_type": "markdown",
   "id": "813c9e4d-8f5a-46b1-b24d-81867336e452",
   "metadata": {
    "tags": []
   },
   "source": [
    "## Class 4: จากยืน/เดินลงไปนั่ง"
   ]
  },
  {
   "cell_type": "code",
   "execution_count": null,
   "id": "8bc1b3fa-3720-420e-b841-0629a20d4854",
   "metadata": {},
   "outputs": [],
   "source": [
    "class_id = 4\n",
    "data = list(annot_df[annot_df['class']==class_id].sample(10)['id'])\n",
    "plt.figure(figsize=(5,10))\n",
    "ax1 = plt.subplot(5,2,1)\n",
    "# ax1.title.set_text(f\"Time\")\n",
    "ax2 = plt.subplot(5,2,2)\n",
    "# ax2.title.set_text(f\"Freq\")\n",
    "ax3 = plt.subplot(5,2,3)\n",
    "# ax3.title.set_text(f\"Time\")\n",
    "ax4 = plt.subplot(5,2,4)\n",
    "# ax4.title.set_text(f\"Freq\")\n",
    "ax5 = plt.subplot(5,2,5)\n",
    "# ax5.title.set_text(f\"Time\")\n",
    "ax6 = plt.subplot(5,2,6)\n",
    "# ax6.title.set_text(f\"Freq\")\n",
    "ax7 = plt.subplot(5,2,7)\n",
    "# ax7.title.set_text(f\"Time\")\n",
    "ax8 = plt.subplot(5,2,8)\n",
    "# ax8.title.set_text(f\"Freq\")\n",
    "ax9 = plt.subplot(5,2,9)\n",
    "# ax9.title.set_text(f\"Time\")\n",
    "ax10 = plt.subplot(5,2,10)\n",
    "# ax10.title.set_text(f\"Freq\")\n",
    "\n",
    "im1 = ax1.imshow(get_time_img(f\"{data[0]}.npy\"))\n",
    "im2 = ax2.imshow(get_freq_img(f\"{data[0]}.npy\"))\n",
    "im3 = ax3.imshow(get_time_img(f\"{data[1]}.npy\"))\n",
    "im4 = ax4.imshow(get_freq_img(f\"{data[1]}.npy\"))\n",
    "im5 = ax5.imshow(get_time_img(f\"{data[2]}.npy\"))\n",
    "im6 = ax6.imshow(get_freq_img(f\"{data[2]}.npy\"))\n",
    "im7 = ax7.imshow(get_time_img(f\"{data[3]}.npy\"))\n",
    "im8 = ax8.imshow(get_freq_img(f\"{data[3]}.npy\"))\n",
    "im9 = ax9.imshow(get_time_img(f\"{data[4]}.npy\"))\n",
    "im10 = ax10.imshow(get_freq_img(f\"{data[4]}.npy\"))"
   ]
  },
  {
   "cell_type": "markdown",
   "id": "d0a5f519-1f08-46fa-96ec-c82fa4891fec",
   "metadata": {
    "tags": []
   },
   "source": [
    "## Class 5: จากนั่งลุกขึ้นมายืน/เดิน"
   ]
  },
  {
   "cell_type": "code",
   "execution_count": null,
   "id": "72b07223-c150-4693-8a6b-9b5cdfa254a5",
   "metadata": {},
   "outputs": [],
   "source": [
    "class_id = 5\n",
    "data = list(annot_df[annot_df['class']==class_id].sample(10)['id'])\n",
    "plt.figure(figsize=(5,10))\n",
    "ax1 = plt.subplot(5,2,1)\n",
    "# ax1.title.set_text(f\"Time\")\n",
    "ax2 = plt.subplot(5,2,2)\n",
    "# ax2.title.set_text(f\"Freq\")\n",
    "ax3 = plt.subplot(5,2,3)\n",
    "# ax3.title.set_text(f\"Time\")\n",
    "ax4 = plt.subplot(5,2,4)\n",
    "# ax4.title.set_text(f\"Freq\")\n",
    "ax5 = plt.subplot(5,2,5)\n",
    "# ax5.title.set_text(f\"Time\")\n",
    "ax6 = plt.subplot(5,2,6)\n",
    "# ax6.title.set_text(f\"Freq\")\n",
    "ax7 = plt.subplot(5,2,7)\n",
    "# ax7.title.set_text(f\"Time\")\n",
    "ax8 = plt.subplot(5,2,8)\n",
    "# ax8.title.set_text(f\"Freq\")\n",
    "ax9 = plt.subplot(5,2,9)\n",
    "# ax9.title.set_text(f\"Time\")\n",
    "ax10 = plt.subplot(5,2,10)\n",
    "# ax10.title.set_text(f\"Freq\")\n",
    "\n",
    "im1 = ax1.imshow(get_time_img(f\"{data[0]}.npy\"))\n",
    "im2 = ax2.imshow(get_freq_img(f\"{data[0]}.npy\"))\n",
    "im3 = ax3.imshow(get_time_img(f\"{data[1]}.npy\"))\n",
    "im4 = ax4.imshow(get_freq_img(f\"{data[1]}.npy\"))\n",
    "im5 = ax5.imshow(get_time_img(f\"{data[2]}.npy\"))\n",
    "im6 = ax6.imshow(get_freq_img(f\"{data[2]}.npy\"))\n",
    "im7 = ax7.imshow(get_time_img(f\"{data[3]}.npy\"))\n",
    "im8 = ax8.imshow(get_freq_img(f\"{data[3]}.npy\"))\n",
    "im9 = ax9.imshow(get_time_img(f\"{data[4]}.npy\"))\n",
    "im10 = ax10.imshow(get_freq_img(f\"{data[4]}.npy\"))"
   ]
  },
  {
   "cell_type": "markdown",
   "id": "465f3b2c-9e67-4c44-804e-960710cc2475",
   "metadata": {
    "tags": []
   },
   "source": [
    "## Class 6: เดิน"
   ]
  },
  {
   "cell_type": "code",
   "execution_count": null,
   "id": "105271e6-cb60-457c-bb57-476181b4838b",
   "metadata": {},
   "outputs": [],
   "source": [
    "class_id = 6\n",
    "data = list(annot_df[annot_df['class']==class_id].sample(10)['id'])\n",
    "plt.figure(figsize=(5,10))\n",
    "ax1 = plt.subplot(5,2,1)\n",
    "# ax1.title.set_text(f\"Time\")\n",
    "ax2 = plt.subplot(5,2,2)\n",
    "# ax2.title.set_text(f\"Freq\")\n",
    "ax3 = plt.subplot(5,2,3)\n",
    "# ax3.title.set_text(f\"Time\")\n",
    "ax4 = plt.subplot(5,2,4)\n",
    "# ax4.title.set_text(f\"Freq\")\n",
    "ax5 = plt.subplot(5,2,5)\n",
    "# ax5.title.set_text(f\"Time\")\n",
    "ax6 = plt.subplot(5,2,6)\n",
    "# ax6.title.set_text(f\"Freq\")\n",
    "ax7 = plt.subplot(5,2,7)\n",
    "# ax7.title.set_text(f\"Time\")\n",
    "ax8 = plt.subplot(5,2,8)\n",
    "# ax8.title.set_text(f\"Freq\")\n",
    "ax9 = plt.subplot(5,2,9)\n",
    "# ax9.title.set_text(f\"Time\")\n",
    "ax10 = plt.subplot(5,2,10)\n",
    "# ax10.title.set_text(f\"Freq\")\n",
    "\n",
    "im1 = ax1.imshow(get_time_img(f\"{data[0]}.npy\"))\n",
    "im2 = ax2.imshow(get_freq_img(f\"{data[0]}.npy\"))\n",
    "im3 = ax3.imshow(get_time_img(f\"{data[1]}.npy\"))\n",
    "im4 = ax4.imshow(get_freq_img(f\"{data[1]}.npy\"))\n",
    "im5 = ax5.imshow(get_time_img(f\"{data[2]}.npy\"))\n",
    "im6 = ax6.imshow(get_freq_img(f\"{data[2]}.npy\"))\n",
    "im7 = ax7.imshow(get_time_img(f\"{data[3]}.npy\"))\n",
    "im8 = ax8.imshow(get_freq_img(f\"{data[3]}.npy\"))\n",
    "im9 = ax9.imshow(get_time_img(f\"{data[4]}.npy\"))\n",
    "im10 = ax10.imshow(get_freq_img(f\"{data[4]}.npy\"))"
   ]
  },
  {
   "cell_type": "code",
   "execution_count": null,
   "id": "e1cb7ce6-1e5f-4043-9b98-5bb3cad1a63a",
   "metadata": {},
   "outputs": [],
   "source": []
  }
 ],
 "metadata": {
  "colab": {
   "provenance": []
  },
  "kernelspec": {
   "display_name": "Python 3 (ipykernel)",
   "language": "python",
   "name": "python3"
  },
  "language_info": {
   "codemirror_mode": {
    "name": "ipython",
    "version": 3
   },
   "file_extension": ".py",
   "mimetype": "text/x-python",
   "name": "python",
   "nbconvert_exporter": "python",
   "pygments_lexer": "ipython3",
   "version": "3.9.13"
  }
 },
 "nbformat": 4,
 "nbformat_minor": 5
}
