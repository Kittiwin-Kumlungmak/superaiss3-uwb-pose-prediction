{
 "cells": [
  {
   "cell_type": "code",
   "execution_count": null,
   "id": "7ad42b4a-d979-4d7d-9b7e-a7037f7b4996",
   "metadata": {
    "tags": []
   },
   "outputs": [],
   "source": [
    "import pandas as pd\n",
    "import numpy as np\n",
    "import os\n",
    "import glob\n",
    "from sklearn.model_selection import train_test_split\n",
    "import matplotlib.pyplot as plt\n",
    "%matplotlib inline\n",
    "\n",
    "import cv2\n",
    "from scipy.signal import medfilt"
   ]
  },
  {
   "cell_type": "code",
   "execution_count": null,
   "id": "b48f5b37-98db-42d9-b7d7-4b12889e4e27",
   "metadata": {},
   "outputs": [],
   "source": [
    "def save_fig(X, filename, mode):\n",
    "    fig, ax = plt.subplots(figsize=(10, 10)) # set figure size\n",
    "    ax.imshow(np.abs(X)[:,10:], aspect='auto', cmap='gray') # slice \n",
    "    ax.set_axis_off()\n",
    "\n",
    "    if mode == 'Train':\n",
    "        fig.savefig(f'img_gray/train/{filename}.jpg', bbox_inches='tight', pad_inches=0)\n",
    "    elif mode == 'Test':\n",
    "        fig.savefig(f'img_gray/test/{filename}.jpg', bbox_inches='tight', pad_inches=0)\n",
    "    plt.close()"
   ]
  },
  {
   "cell_type": "code",
   "execution_count": null,
   "id": "be479aca-24a5-4a7d-b594-8a812ee6e673",
   "metadata": {},
   "outputs": [],
   "source": [
    "def save_dataset():\n",
    "    \n",
    "    # Setting Train, test path\n",
    "    train_list = glob.glob('train/train/*.npy')\n",
    "    test_list = glob.glob('test/test/*.npy')\n",
    "    annotations = pd.read_csv('annotations.csv')\n",
    "    \n",
    "    \n",
    "    # Import Train data\n",
    "    X_train = []\n",
    "    y_train = []\n",
    "    \n",
    "    \n",
    "    for i in train_list:        \n",
    "        z = np.load(i)\n",
    "        label = annotations[annotations['id'] == i.replace('train/train/','').replace('.npy','')]['class'].values\n",
    "        \n",
    "        # check if shape is all the same\n",
    "        if z.shape != (2560,56):\n",
    "            print(i)\n",
    "            print(\"Outlier shape: \", z.shape)\n",
    "            print('=='*5)\n",
    "        else:    \n",
    "            # X_train.append(z)\n",
    "            # y_train.append(label)\n",
    "\n",
    "            filename = i.replace('train/train/','').replace('.npy','')\n",
    "            mode = 'Train'\n",
    "            save_fig(z, filename, mode)\n",
    "\n",
    "    print('=='*5, 'Train Finish')\n",
    "    \n",
    "    \n",
    "    # Import test data\n",
    "    X_test = []\n",
    "    for i in test_list:\n",
    "\n",
    "        z = np.load(i)\n",
    "        # X_test.append(z)\n",
    "\n",
    "        filename = i.replace('test/test/','').replace('.npy','')\n",
    "        mode = 'Test'\n",
    "        save_fig(z, filename, mode)\n",
    "\n",
    "    print('=='*5, 'Test Finish')"
   ]
  },
  {
   "cell_type": "code",
   "execution_count": null,
   "id": "e32c5345-30fa-4d13-b47f-968ddd722433",
   "metadata": {},
   "outputs": [],
   "source": [
    "save_dataset()"
   ]
  },
  {
   "cell_type": "code",
   "execution_count": null,
   "id": "60366bb2-e997-40ef-b2d1-d72b28e0af6c",
   "metadata": {},
   "outputs": [],
   "source": []
  },
  {
   "cell_type": "code",
   "execution_count": null,
   "id": "c5eaf8d0-adce-4596-9c0f-02c7616dbf08",
   "metadata": {},
   "outputs": [],
   "source": []
  }
 ],
 "metadata": {
  "kernelspec": {
   "display_name": "Python 3 (ipykernel)",
   "language": "python",
   "name": "python3"
  },
  "language_info": {
   "codemirror_mode": {
    "name": "ipython",
    "version": 3
   },
   "file_extension": ".py",
   "mimetype": "text/x-python",
   "name": "python",
   "nbconvert_exporter": "python",
   "pygments_lexer": "ipython3",
   "version": "3.9.13"
  }
 },
 "nbformat": 4,
 "nbformat_minor": 5
}
